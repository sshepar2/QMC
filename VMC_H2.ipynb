{
 "cells": [
  {
   "cell_type": "code",
   "execution_count": 589,
   "metadata": {},
   "outputs": [],
   "source": [
    "import math\n",
    "import numpy as np\n",
    "import matplotlib.pyplot as plt\n",
    "from scipy.stats import norm\n",
    "import matplotlib.mlab as mlab"
   ]
  },
  {
   "cell_type": "code",
   "execution_count": 588,
   "metadata": {},
   "outputs": [
    {
     "name": "stdout",
     "output_type": "stream",
     "text": [
      "-1.8194909218425162\n",
      "Wavefunction Test passed\n"
     ]
    }
   ],
   "source": [
    "# the trial wavefunction is a BOND CENTERED GAUSSIAN. NOT product of 2 atom centered gaussians\n",
    "\n",
    "def psi(coords,ions):\n",
    "        return np.exp(-0.5*(np.dot(coords[0],coords[0]) + np.dot(coords[1],coords[1])))\n",
    "\n",
    "def WaveFunction1_test1(wf):\n",
    "    coords=np.array([[1.0,0.5,0.3],[-0.2,0.1,-0.1]])\n",
    "    ions=np.array([[-0.7,0.0,0.0],[0.7,0.0,0.0]])\n",
    "    if np.abs(wf(coords,ions)-0.496585)<1e-5:\n",
    "        return True\n",
    "    else:\n",
    "        print(psi(coords,ions))\n",
    "        print(np.abs(psi(coords,ions)-0.496585))\n",
    "        return False\n",
    "\n",
    "# Lap(Psi)/Psi\n",
    "def LapPsioverPsi(wf,coords,ions):\n",
    "    d = 0.001\n",
    "    wf_ref = wf(coords,ions)\n",
    "    \n",
    "    coords_plus=np.zeros((2,3),float)\n",
    "    coords_minus=np.zeros((2,3),float)\n",
    "    \n",
    "    #x1\n",
    "    coords_plus[:]=coords\n",
    "    coords_minus[:]=coords\n",
    "    coords_plus[0][0]=coords_plus[0][0] + d\n",
    "    coords_minus[0][0]=coords_minus[0][0] - d\n",
    "    lapx1 = (wf(coords_plus,ions) + wf(coords_minus,ions) -2*wf_ref)/(d**2)\n",
    "    \n",
    "    #y1\n",
    "    coords_plus[:]=coords\n",
    "    coords_minus[:]=coords\n",
    "    coords_plus[0][1]=coords_plus[0][1] + d\n",
    "    coords_minus[0][1]=coords_minus[0][1] - d\n",
    "    lapy1 = (wf(coords_plus,ions) + wf(coords_minus,ions) -2*wf_ref)/(d**2)\n",
    "    \n",
    "    #z1\n",
    "    coords_plus[:]=coords\n",
    "    coords_minus[:]=coords\n",
    "    coords_plus[0][2]=coords_plus[0][2] + d\n",
    "    coords_minus[0][2]=coords_minus[0][2] - d\n",
    "    lapz1 = (wf(coords_plus,ions) + wf(coords_minus,ions) -2*wf_ref)/(d**2)\n",
    "    \n",
    "    #x2\n",
    "    coords_plus[:]=coords\n",
    "    coords_minus[:]=coords\n",
    "    coords_plus[1][0]=coords_plus[1][0] + d\n",
    "    coords_minus[1][0]=coords_minus[1][0] - d\n",
    "    lapx2 = (wf(coords_plus,ions) + wf(coords_minus,ions) -2*wf_ref)/(d**2)\n",
    "    \n",
    "    #y2\n",
    "    coords_plus[:]=coords\n",
    "    coords_minus[:]=coords\n",
    "    coords_plus[1][1]=coords_plus[1][1] + d\n",
    "    coords_minus[1][1]=coords_minus[1][1] - d\n",
    "    lapy2 = (wf(coords_plus,ions) + wf(coords_minus,ions) -2*wf_ref)/(d**2)\n",
    "    \n",
    "    #z2\n",
    "    coords_plus[:]=coords\n",
    "    coords_minus[:]=coords\n",
    "    coords_plus[1][2]=coords_plus[1][2] + d\n",
    "    coords_minus[1][2]=coords_minus[1][2] - d\n",
    "    lapz2 = (wf(coords_plus,ions) + wf(coords_minus,ions) -2*wf_ref)/(d**2)\n",
    "    \n",
    "    lap = lapx1 + lapy1 +lapz1 +lapx2 +lapy2 +lapz2\n",
    "    \n",
    "    return -0.5/wf(coords,ions)*(lapx1 + lapy1 +lapz1 +lapx2 +lapy2 +lapz2)\n",
    "\n",
    "\n",
    "# (KE+V)Psi/Psi\n",
    "def LocalEnergy(wf,coords,ions):\n",
    "    return LapPsioverPsi(wf,coords,ions) - (1/math.sqrt(np.dot(coords[0] - ions[0],coords[0] - ions[0])) + 1/math.sqrt(np.dot(coords[0] - ions[1],coords[0] - ions[1])) + 1/math.sqrt(np.dot(coords[1] - ions[0],coords[1] - ions[0])) + 1/math.sqrt(np.dot(coords[1] - ions[1],coords[1] - ions[1]))) + 1/math.sqrt(np.dot(coords[0] - coords[1],coords[0] - coords[1])) + 1/math.sqrt(np.dot(ions[0] - ions[1],ions[0] - ions[1]))\n",
    "\n",
    "ions=np.array([[-0.7,0.0,0.0],[0.7,0.0,0.0]])\n",
    "coords=np.array([[1.0,0.3,0.2],[2.0,-0.2,0.1]])\n",
    "\n",
    "E = LocalEnergy(psi,coords,ions)\n",
    "print(E)\n",
    "\n",
    "if (WaveFunction1_test1(psi)):\n",
    "    print(\"Wavefunction Test passed\")\n",
    "else:\n",
    "    print (\"Wavefunction Test Failed\")"
   ]
  },
  {
   "cell_type": "code",
   "execution_count": 462,
   "metadata": {},
   "outputs": [
    {
     "name": "stdout",
     "output_type": "stream",
     "text": [
      "initial wavefunction: 0.49658530379140947\n",
      "Acceptance Ratio: 0.33442\n"
     ]
    }
   ],
   "source": [
    "# qmc function\n",
    "def VMC(wf,coords_ini,ions,Nsteps):\n",
    "    # calculating intial |\\psi|\n",
    "    wf_current = wf(coords_ini,ions)\n",
    "    print('initial wavefunction:',wf_current)\n",
    "    coords_proposed = np.zeros((2,3),float)\n",
    "    coords_current = coords_ini\n",
    "    scale = 1\n",
    "    updates = 0\n",
    "    no_updates = 0\n",
    "    for step in range(Nsteps):\n",
    "        R = np.random.uniform(-1,1,(2,3))\n",
    "        coords_proposed[0] = coords_current[0] + scale*R[0]\n",
    "        coords_proposed[1] = coords_current[1] + scale*R[1]\n",
    "        wf_proposed = wf(coords_proposed,ions)\n",
    "        weight = wf_proposed**2/wf_current**2\n",
    "        #print('weight:',weight)\n",
    "        if weight > np.random.rand():\n",
    "            updates = updates + 1\n",
    "            wf_current = wf_proposed\n",
    "            coords_current[:] = coords_proposed\n",
    "        else:\n",
    "            no_updates = no_updates + 1\n",
    "        #e1x[step]=coords_current[0][0]\n",
    "        #e2x[step]=coords_current[1][0]\n",
    "        E[step] = LocalEnergy(wf,coords_current,ions)\n",
    "    print('Acceptance Ratio:',updates/Nsteps)\n",
    "\n",
    "Nsteps=100000\n",
    "E=np.zeros(Nsteps)\n",
    "#e1x=np.zeros(Nsteps)\n",
    "#e2x=np.zeros(Nsteps)\n",
    "\n",
    "coords=np.array([[1.0,0.5,0.3],[-0.2,0.1,-0.1]])\n",
    "ions=np.array([[-0.7,0.0,0.0],[0.7,0.0,0.0]])\n",
    "VMC(psi,coords,ions,Nsteps)"
   ]
  },
  {
   "cell_type": "code",
   "execution_count": 463,
   "metadata": {},
   "outputs": [
    {
     "data": {
      "image/png": "[encoded data removed]",
      "text/plain": [
       "<Figure size 432x288 with 2 Axes>"
      ]
     },
     "metadata": {
      "needs_background": "light"
     },
     "output_type": "display_data"
    }
   ],
   "source": [
    "# plot of local energy\n",
    "\n",
    "(mean,sigma)=norm.fit(E)\n",
    "\n",
    "plt.figure()\n",
    "plt.subplot(1,2,1)\n",
    "plt.plot(np.linspace(1,Nsteps,Nsteps),E)\n",
    "plt.xlabel('step')\n",
    "plt.ylabel('Local Energy')\n",
    "plt.title('Local Energy fluctuations')\n",
    "plt.subplot(1,2,2)\n",
    "plt.hist(E,bins=1000,orientation=u'horizontal',alpha = 0.5);\n",
    "plt.xlabel('Counts')\n",
    "plt.title('Mean=%4.2f' %mean + ', Sigma=%4.2f' %sigma)\n",
    "plt.show()"
   ]
  },
  {
   "cell_type": "code",
   "execution_count": 590,
   "metadata": {},
   "outputs": [],
   "source": [
    "# same exact thing as above just utilizing classes\n",
    "\n",
    "class WaveFunction:\n",
    "    def psi(self,coords):\n",
    "        return np.exp(-WaveFunction.Alpha*(np.dot(coords[0],coords[0]) + np.dot(coords[1],coords[1])))\n",
    "    \n",
    "    def LapPsioverPsi(self,coords):\n",
    "        d = 0.001\n",
    "        wf_ref = WaveFunction.psi(self,coords)\n",
    "    \n",
    "        coords_plus=np.zeros((2,3),float)\n",
    "        coords_minus=np.zeros((2,3),float)\n",
    "    \n",
    "        #x1\n",
    "        coords_plus[:]=coords\n",
    "        coords_minus[:]=coords\n",
    "        coords_plus[0][0]=coords_plus[0][0] + d\n",
    "        coords_minus[0][0]=coords_minus[0][0] - d\n",
    "        lapx1 = (WaveFunction.psi(self,coords_plus) + WaveFunction.psi(self,coords_minus) -2*wf_ref)/(d**2)\n",
    "    \n",
    "        #y1\n",
    "        coords_plus[:]=coords\n",
    "        coords_minus[:]=coords\n",
    "        coords_plus[0][1]=coords_plus[0][1] + d\n",
    "        coords_minus[0][1]=coords_minus[0][1] - d\n",
    "        lapy1 = (WaveFunction.psi(self,coords_plus) + WaveFunction.psi(self,coords_minus) -2*wf_ref)/(d**2)\n",
    "    \n",
    "        #z1\n",
    "        coords_plus[:]=coords\n",
    "        coords_minus[:]=coords\n",
    "        coords_plus[0][2]=coords_plus[0][2] + d\n",
    "        coords_minus[0][2]=coords_minus[0][2] - d\n",
    "        lapz1 = (WaveFunction.psi(self,coords_plus) + WaveFunction.psi(self,coords_minus) -2*wf_ref)/(d**2)\n",
    "    \n",
    "        #x2\n",
    "        coords_plus[:]=coords\n",
    "        coords_minus[:]=coords\n",
    "        coords_plus[1][0]=coords_plus[1][0] + d\n",
    "        coords_minus[1][0]=coords_minus[1][0] - d\n",
    "        lapx2 = (WaveFunction.psi(self,coords_plus) + WaveFunction.psi(self,coords_minus) -2*wf_ref)/(d**2)\n",
    "    \n",
    "        #y2\n",
    "        coords_plus[:]=coords\n",
    "        coords_minus[:]=coords\n",
    "        coords_plus[1][1]=coords_plus[1][1] + d\n",
    "        coords_minus[1][1]=coords_minus[1][1] - d\n",
    "        lapy2 = (WaveFunction.psi(self,coords_plus) + WaveFunction.psi(self,coords_minus) -2*wf_ref)/(d**2)\n",
    "    \n",
    "        #z2\n",
    "        coords_plus[:]=coords\n",
    "        coords_minus[:]=coords\n",
    "        coords_plus[1][2]=coords_plus[1][2] + d\n",
    "        coords_minus[1][2]=coords_minus[1][2] - d\n",
    "        lapz2 = (WaveFunction.psi(self,coords_plus) + WaveFunction.psi(self,coords_minus) -2*wf_ref)/(d**2)\n",
    "    \n",
    "        lap = lapx1 + lapy1 +lapz1 +lapx2 +lapy2 +lapz2\n",
    "    \n",
    "        return -0.5/WaveFunction.psi(self,coords)*(lapx1 + lapy1 +lapz1 +lapx2 +lapy2 +lapz2)\n",
    "    \n",
    "    def LocalEnergy(self,coords):\n",
    "        return WaveFunction.LapPsioverPsi(self,coords) - (1/math.sqrt(np.dot(coords[0] - WaveFunction.Ions[0],coords[0] - WaveFunction.Ions[0])) + 1/math.sqrt(np.dot(coords[0] - WaveFunction.Ions[1],coords[0] - WaveFunction.Ions[1])) + 1/math.sqrt(np.dot(coords[1] - WaveFunction.Ions[0],coords[1] - WaveFunction.Ions[0])) + 1/math.sqrt(np.dot(coords[1] - WaveFunction.Ions[1],coords[1] - WaveFunction.Ions[1]))) + 1/math.sqrt(np.dot(coords[0] - coords[1],coords[0] - coords[1])) + 1/math.sqrt(np.dot(WaveFunction.Ions[0] - WaveFunction.Ions[1],WaveFunction.Ions[0] - WaveFunction.Ions[1]))\n",
    "    \n",
    "    def SetIons(self,ions):\n",
    "        WaveFunction.Ions = ions\n",
    "    \n",
    "    def SetAlpha(self,alpha):\n",
    "        WaveFunction.Alpha = alpha\n"
   ]
  },
  {
   "cell_type": "code",
   "execution_count": 591,
   "metadata": {},
   "outputs": [
    {
     "data": {
      "text/plain": [
       "-1.8194909218425166"
      ]
     },
     "execution_count": 591,
     "metadata": {},
     "output_type": "execute_result"
    }
   ],
   "source": [
    "# testing class / initializing WaveFunction object wf\n",
    "\n",
    "wf = WaveFunction()\n",
    "wf.SetIons(np.array([[0.7,0.0,0.0],[-0.7,0.0,0.0]]))\n",
    "wf.Ions\n",
    "wf.SetAlpha(0.5)\n",
    "wf.Alpha\n",
    "wf.psi(np.array([[1.0,0.5,0.3],[-0.2,0.1,-0.1]]))\n",
    "R=np.zeros((2,3),float)\n",
    "R[0]=[1.0,0.3,0.2]\n",
    "R[1]=[2.0,-0.2,0.1]\n",
    "wf.LocalEnergy(R)"
   ]
  },
  {
   "cell_type": "code",
   "execution_count": 592,
   "metadata": {},
   "outputs": [],
   "source": [
    "# qmc function rewritten for WaveFunction class input\n",
    "\n",
    "def VMC(wfobject,Nsteps):\n",
    "    # calculating intial |\\psi|\n",
    "    E=np.zeros(Nsteps)\n",
    "    coords_ini = np.random.uniform(-1,1,(2,3)) #np.array([[1.0,0.5,0.3],[-0.2,0.1,-0.1]])\n",
    "    wf_current = wfobject.psi(coords_ini)\n",
    "    #print('initial wavefunction:',wf_current)\n",
    "    coords_proposed = np.zeros((2,3),float)\n",
    "    coords_current = coords_ini\n",
    "    scale = 1\n",
    "    updates = 0\n",
    "    no_updates = 0\n",
    "    for step in range(Nsteps):\n",
    "        R = np.random.uniform(-1,1,(2,3))\n",
    "        coords_proposed[0] = coords_current[0] + scale*R[0]\n",
    "        coords_proposed[1] = coords_current[1] + scale*R[1]\n",
    "        wf_proposed = wfobject.psi(coords_proposed)\n",
    "        weight = wf_proposed**2/wf_current**2\n",
    "        #print('weight:',weight)\n",
    "        if weight > np.random.rand():\n",
    "            updates = updates + 1\n",
    "            wf_current = wf_proposed\n",
    "            coords_current[:] = coords_proposed\n",
    "        else:\n",
    "            no_updates = no_updates + 1\n",
    "        #e1x[step]=coords_current[0][0]\n",
    "        #e2x[step]=coords_current[1][0]\n",
    "        E[step] = wfobject.LocalEnergy(coords_current)\n",
    "    print('Acceptance Ratio:',updates/Nsteps)\n",
    "    return E\n"
   ]
  },
  {
   "cell_type": "code",
   "execution_count": 593,
   "metadata": {},
   "outputs": [
    {
     "name": "stdout",
     "output_type": "stream",
     "text": [
      "Acceptance Ratio: 0.45278\n"
     ]
    }
   ],
   "source": [
    "# initializing wf object and running qmc\n",
    "\n",
    "N = 100000\n",
    "\n",
    "wf = WaveFunction()\n",
    "wf.SetIons(np.array([[0.7,0.0,0.0],[-0.7,0.0,0.0]]))\n",
    "wf.SetAlpha(0.3)\n",
    "\n",
    "Elist = VMC(wf,N)\n",
    "\n",
    "(mean,sigma)=norm.fit(Elist)"
   ]
  },
  {
   "cell_type": "code",
   "execution_count": 603,
   "metadata": {},
   "outputs": [
    {
     "data": {
      "image/png": "[encoded data removed]",
      "text/plain": [
       "<Figure size 720x360 with 2 Axes>"
      ]
     },
     "metadata": {
      "needs_background": "light"
     },
     "output_type": "display_data"
    }
   ],
   "source": [
    "# plotting above qmc run\n",
    "\n",
    "plt.figure(figsize=(10,5))\n",
    "plt.subplot(1,2,1)\n",
    "plt.plot(np.linspace(1,N,N),Elist)\n",
    "plt.xlabel('step')\n",
    "plt.ylabel('Local Energy')\n",
    "plt.ylim(-30,30)\n",
    "plt.title('Local Energy fluctuations')\n",
    "plt.subplot(1,2,2)\n",
    "plt.hist(Elist,bins=1000,orientation=u'horizontal',alpha = 0.5);\n",
    "plt.xlabel('Counts')\n",
    "plt.ylim(-30,30)\n",
    "plt.title('Mean=%4.3f' %mean + ', Sigma=%4.2f' %sigma)\n",
    "plt.show()"
   ]
  },
  {
   "cell_type": "code",
   "execution_count": 635,
   "metadata": {},
   "outputs": [],
   "source": [
    "# now do for varying alpha\n",
    "\n",
    "def Optimize(wfobject):\n",
    "    optimizeList=[]\n",
    "    cent=wfobject.Alpha\n",
    "    # let's cover a range of +/- 0.2 around initial alpha, removing negative values if appear.\n",
    "    N=50000 ; trash=2000 ; pm=0.2 ; num=20 ; hi=cent+pm ; lo=cent-pm\n",
    "    forerror= 1/math.sqrt(N)\n",
    "    # For the sake of time, let's limit how many alpha's are done. So the range determines the increment\n",
    "    a=np.linspace(lo,hi,num)\n",
    "    for i in a:\n",
    "        wfobject.SetAlpha(i)\n",
    "        print('Running',wfobject.Alpha)\n",
    "        Elist=VMC(wfobject,N)\n",
    "        (mean,sigma)=norm.fit(Elist[trash:N-1])\n",
    "        optimizeList.append([wfobject.Alpha,mean,sigma*forerror])\n",
    "    bestEntry=min(optimizeList,key=lambda x: x[1])\n",
    "    bestAlpha=bestEntry[0]\n",
    "    print('Best alpha:',bestEntry)\n",
    "    return (np.array(optimizeList),bestAlpha)"
   ]
  },
  {
   "cell_type": "code",
   "execution_count": 583,
   "metadata": {},
   "outputs": [
    {
     "name": "stdout",
     "output_type": "stream",
     "text": [
      "Running 0.09999999999999998\n",
      "Acceptance Ratio: 0.6602\n",
      "Running 0.12105263157894734\n",
      "Acceptance Ratio: 0.63094\n",
      "Running 0.1421052631578947\n",
      "Acceptance Ratio: 0.60656\n",
      "Running 0.16315789473684209\n",
      "Acceptance Ratio: 0.57672\n",
      "Running 0.18421052631578944\n",
      "Acceptance Ratio: 0.5512\n",
      "Running 0.20526315789473681\n",
      "Acceptance Ratio: 0.52938\n",
      "Running 0.2263157894736842\n",
      "Acceptance Ratio: 0.51192\n",
      "Running 0.24736842105263154\n",
      "Acceptance Ratio: 0.49606\n",
      "Running 0.2684210526315789\n",
      "Acceptance Ratio: 0.47168\n",
      "Running 0.2894736842105263\n",
      "Acceptance Ratio: 0.45814\n",
      "Running 0.31052631578947365\n",
      "Acceptance Ratio: 0.44208\n",
      "Running 0.33157894736842103\n",
      "Acceptance Ratio: 0.42854\n",
      "Running 0.3526315789473684\n",
      "Acceptance Ratio: 0.41528\n",
      "Running 0.3736842105263158\n",
      "Acceptance Ratio: 0.40104\n",
      "Running 0.3947368421052631\n",
      "Acceptance Ratio: 0.39048\n",
      "Running 0.4157894736842105\n",
      "Acceptance Ratio: 0.37866\n",
      "Running 0.43684210526315786\n",
      "Acceptance Ratio: 0.36756\n",
      "Running 0.45789473684210524\n",
      "Acceptance Ratio: 0.35298\n",
      "Running 0.4789473684210526\n",
      "Acceptance Ratio: 0.34552\n",
      "Running 0.5\n",
      "Acceptance Ratio: 0.33504\n",
      "Best alpha: [0.31052631578947365, -0.9598947705493001, 0.004679394063360155]\n"
     ]
    },
    {
     "data": {
      "image/png": "[encoded data removed]",
      "text/plain": [
       "<Figure size 432x288 with 1 Axes>"
      ]
     },
     "metadata": {
      "needs_background": "light"
     },
     "output_type": "display_data"
    }
   ],
   "source": [
    "# test optimize, initialize wf object\n",
    "\n",
    "wf = WaveFunction()\n",
    "wf.SetIons(np.array([[0.7,0.0,0.0],[-0.7,0.0,0.0]]))\n",
    "wf.SetAlpha(0.3)\n",
    "\n",
    "(data,bAlpha) = Optimize(wf)\n",
    "\n",
    "\n",
    "plt.errorbar(data[:,0],data[:,1],data[:,2],fmt='.')\n",
    "plt.show()"
   ]
  },
  {
   "cell_type": "code",
   "execution_count": 675,
   "metadata": {},
   "outputs": [],
   "source": [
    "# same exact thing, better class initiation, useful if want to parallelize\n",
    "\n",
    "class WaveFunction:\n",
    "    def __init__(self,ions,alpha):\n",
    "        self.Ions=ions\n",
    "        self.Alpha=alpha\n",
    "    \n",
    "    def psi(self,coords):\n",
    "        return np.exp(-self.Alpha*(np.dot(coords[0],coords[0]) + np.dot(coords[1],coords[1])))\n",
    "    \n",
    "    def LapPsioverPsi(self,coords):\n",
    "        d = 0.001\n",
    "        wf_ref = WaveFunction.psi(self,coords)\n",
    "    \n",
    "        coords_plus=np.zeros((2,3),float)\n",
    "        coords_minus=np.zeros((2,3),float)\n",
    "    \n",
    "        #x1\n",
    "        coords_plus[:]=coords\n",
    "        coords_minus[:]=coords\n",
    "        coords_plus[0][0]=coords_plus[0][0] + d\n",
    "        coords_minus[0][0]=coords_minus[0][0] - d\n",
    "        lapx1 = (WaveFunction.psi(self,coords_plus) + WaveFunction.psi(self,coords_minus) -2*wf_ref)/(d**2)\n",
    "    \n",
    "        #y1\n",
    "        coords_plus[:]=coords\n",
    "        coords_minus[:]=coords\n",
    "        coords_plus[0][1]=coords_plus[0][1] + d\n",
    "        coords_minus[0][1]=coords_minus[0][1] - d\n",
    "        lapy1 = (WaveFunction.psi(self,coords_plus) + WaveFunction.psi(self,coords_minus) -2*wf_ref)/(d**2)\n",
    "    \n",
    "        #z1\n",
    "        coords_plus[:]=coords\n",
    "        coords_minus[:]=coords\n",
    "        coords_plus[0][2]=coords_plus[0][2] + d\n",
    "        coords_minus[0][2]=coords_minus[0][2] - d\n",
    "        lapz1 = (WaveFunction.psi(self,coords_plus) + WaveFunction.psi(self,coords_minus) -2*wf_ref)/(d**2)\n",
    "    \n",
    "        #x2\n",
    "        coords_plus[:]=coords\n",
    "        coords_minus[:]=coords\n",
    "        coords_plus[1][0]=coords_plus[1][0] + d\n",
    "        coords_minus[1][0]=coords_minus[1][0] - d\n",
    "        lapx2 = (WaveFunction.psi(self,coords_plus) + WaveFunction.psi(self,coords_minus) -2*wf_ref)/(d**2)\n",
    "    \n",
    "        #y2\n",
    "        coords_plus[:]=coords\n",
    "        coords_minus[:]=coords\n",
    "        coords_plus[1][1]=coords_plus[1][1] + d\n",
    "        coords_minus[1][1]=coords_minus[1][1] - d\n",
    "        lapy2 = (WaveFunction.psi(self,coords_plus) + WaveFunction.psi(self,coords_minus) -2*wf_ref)/(d**2)\n",
    "    \n",
    "        #z2\n",
    "        coords_plus[:]=coords\n",
    "        coords_minus[:]=coords\n",
    "        coords_plus[1][2]=coords_plus[1][2] + d\n",
    "        coords_minus[1][2]=coords_minus[1][2] - d\n",
    "        lapz2 = (WaveFunction.psi(self,coords_plus) + WaveFunction.psi(self,coords_minus) -2*wf_ref)/(d**2)\n",
    "    \n",
    "        lap = lapx1 + lapy1 +lapz1 +lapx2 +lapy2 +lapz2\n",
    "    \n",
    "        return -0.5/WaveFunction.psi(self,coords)*(lapx1 + lapy1 +lapz1 +lapx2 +lapy2 +lapz2)\n",
    "    \n",
    "    def LocalEnergy(self,coords):\n",
    "        return WaveFunction.LapPsioverPsi(self,coords) - (1/math.sqrt(np.dot(coords[0] - self.Ions[0],coords[0] - self.Ions[0])) + 1/math.sqrt(np.dot(coords[0] - self.Ions[1],coords[0] - self.Ions[1])) + 1/math.sqrt(np.dot(coords[1] - self.Ions[0],coords[1] - self.Ions[0])) + 1/math.sqrt(np.dot(coords[1] - self.Ions[1],coords[1] - self.Ions[1]))) + 1/math.sqrt(np.dot(coords[0] - coords[1],coords[0] - coords[1])) + 1/math.sqrt(np.dot(self.Ions[0] - self.Ions[1],self.Ions[0] - self.Ions[1]))\n"
   ]
  },
  {
   "cell_type": "code",
   "execution_count": 673,
   "metadata": {},
   "outputs": [
    {
     "name": "stdout",
     "output_type": "stream",
     "text": [
      "--- 2.0002522468566895 seconds ---\n",
      "Acceptance Ratio: 0.66422\n",
      "[0.1, -0.5937370079889537, 0.0030656949877408634]\n",
      "--- 12.031688451766968 seconds ---\n",
      "--- 2.0001792907714844 seconds ---\n",
      "Acceptance Ratio: 0.53826\n",
      "[0.2, -0.8586955842406347, 0.0036826444044726634]\n",
      "--- 23.826478242874146 seconds ---\n",
      "--- 2.00124454498291 seconds ---\n",
      "Acceptance Ratio: 0.45444\n",
      "[0.3, -0.9361494724085977, 0.004158384298757887]\n",
      "--- 35.77039098739624 seconds ---\n",
      "--- 2.001100778579712 seconds ---\n",
      "Acceptance Ratio: 0.39022\n",
      "[0.4, -0.9375441932293445, 0.004901431081111178]\n",
      "--- 47.67280912399292 seconds ---\n",
      "--- 2.0003130435943604 seconds ---\n",
      "Acceptance Ratio: 0.33766\n",
      "[0.5, -0.8622126374988441, 0.005320084034056218]\n",
      "--- 59.774474143981934 seconds ---\n",
      "--- 2.000551223754883 seconds ---\n",
      "Acceptance Ratio: 0.29394\n",
      "[0.6, -0.7380600849304026, 0.0060676853835765305]\n",
      "--- 71.51752710342407 seconds ---\n",
      "--- 2.0003368854522705 seconds ---\n",
      "Acceptance Ratio: 0.26054\n",
      "[0.7, -0.6076545898475695, 0.00871028005505304]\n",
      "--- 83.58044123649597 seconds ---\n",
      "--- 83.5898540019989 seconds ---\n"
     ]
    }
   ],
   "source": [
    "# let's try to parallelize the above optimize function since all alpha calculations are independent\n",
    "\n",
    "import time\n",
    "import multiprocessing as mp\n",
    "\n",
    "def Optimize(wfobject,q):\n",
    "    #start=time.time()\n",
    "    time.sleep(2)\n",
    "    #print(\"--- %s seconds ---\" % (time.time() - start))\n",
    "    #optimizeList=[]\n",
    "    #cent=wfobject.Alpha\n",
    "    # let's cover a range of +/- 0.2 around initial alpha, removing negative values if appear.\n",
    "    N=50000 ; trash=2000 ; #pm=0.2 ; num=20 ; hi=cent+pm ; lo=cent-pm\n",
    "    forerror= 1/math.sqrt(N)\n",
    "    # For the sake of time, let's limit how many alpha's are done. So the range determines the increment\n",
    "    #a=np.linspace(lo,hi,num)\n",
    "    #print('Running',wfobject.Alpha)\n",
    "    Elist=VMC(wfobject,N)\n",
    "    (mean,sigma)=norm.fit(Elist[trash:N-1])\n",
    "    optimizeList=[wfobject.Alpha,mean,sigma*forerror]\n",
    "    print(optimizeList)\n",
    "    #bestEntry=min(optimizeList,key=lambda x: x[1])\n",
    "    #bestAlpha=bestEntry[0]\n",
    "    #print('Best alpha:',bestEntry)\n",
    "    q.put(np.array(optimizeList))\n",
    "    #wfobject.value=np.array(optimizeList)\n",
    "\n",
    "# wf objects\n",
    "ions=np.array([[0.7,0.0,0.0],[-0.7,0.0,0.0]])\n",
    "\n",
    "wf1 = WaveFunction(ions,0.1)\n",
    "wf2 = WaveFunction(ions,0.2)\n",
    "wf3 = WaveFunction(ions,0.3)\n",
    "wf4 = WaveFunction(ions,0.4)\n",
    "wf5 = WaveFunction(ions,0.5)\n",
    "wf6 = WaveFunction(ions,0.6)\n",
    "wf7 = WaveFunction(ions,0.7)\n",
    "\n",
    "wfs = [wf1,wf2,wf3,wf4,wf5,wf6,wf7]\n",
    "\n",
    "# using pool\n",
    "\n",
    "#pool = mp.Pool(mp.cpu_count())\n",
    "#data = [pool.apply(Optimize, args=(wfs[i])) for i in range(len(wfs))]\n",
    "#pool.close()\n",
    "\n",
    "if __name__ == '__main__':\n",
    "    starttime = time.time()\n",
    "    q = multiprocessing.Queue()\n",
    "    #manager = multiprocessing.Manager()\n",
    "    #return_list = manager.list()\n",
    "    processes = []\n",
    "    data=[]\n",
    "    for wf in wfs:\n",
    "        \n",
    "        p = mp.Process(target=Optimize, args=(wf,q,))\n",
    "        processes.append(p)\n",
    "        p.start()\n",
    "        #print(p)\n",
    "        data.append(q.get())\n",
    "        print(\"--- %s seconds ---\" % (time.time() - starttime))\n",
    "    \n",
    "    #data = []\n",
    "    #data.update(q.get())\n",
    "    #print(data)\n",
    "    #print(\"--- %s seconds ---\" % (time.time() - starttime))\n",
    "    \n",
    "    for process in processes:\n",
    "        process.join()\n",
    "     #optimizeArray = np.array(return_list)\n",
    "    print(\"--- %s seconds ---\" % (time.time() - starttime))"
   ]
  },
  {
   "cell_type": "code",
   "execution_count": 674,
   "metadata": {},
   "outputs": [
    {
     "data": {
      "image/png": "[encoded data removed]",
      "text/plain": [
       "<Figure size 432x288 with 1 Axes>"
      ]
     },
     "metadata": {
      "needs_background": "light"
     },
     "output_type": "display_data"
    }
   ],
   "source": [
    "# plotting energy for different alpha's using the 'parallel' function. N = 50000 for each simulation\n",
    "\n",
    "optimizeArray=np.array(data)\n",
    "plt.errorbar(optimizeArray[:,0],optimizeArray[:,1],optimizeArray[:,2],fmt='.')\n",
    "#plt.errorbar(data[:,0],data[:,1],data[:,2],fmt='.')\n",
    "plt.show()\n",
    "#print(data)\n",
    "#print(\"Number of cpu : \", multiprocessing.cpu_count())"
   ]
  },
  {
   "cell_type": "code",
   "execution_count": 393,
   "metadata": {},
   "outputs": [
    {
     "data": {
      "image/png": "[encoded data removed]",
      "text/plain": [
       "<Figure size 432x288 with 2 Axes>"
      ]
     },
     "metadata": {
      "needs_background": "light"
     },
     "output_type": "display_data"
    }
   ],
   "source": [
    "# old, looking at average position along bond direction\n",
    "\n",
    "plt.figure()\n",
    "plt.subplot(1,2,1)\n",
    "plt.plot(np.linspace(1,Nsteps,Nsteps),e1x)\n",
    "plt.plot(np.linspace(1,Nsteps,Nsteps),e2x)\n",
    "plt.plot([0,Nsteps],[0.7,0.7])\n",
    "plt.plot([0,Nsteps],[-0.7,-0.7])\n",
    "plt.xlabel('step')\n",
    "plt.ylabel('x position of e1 and e2')\n",
    "plt.title('Electron position fluctuations in a hydrogen molecule')\n",
    "plt.subplot(1,2,2)\n",
    "#(mu,sigma)=norm.fit(e1x)\n",
    "#gauss_fit = norm.pdf(25, mu, sigma)\n",
    "#plt.plot(25,gauss_fit)\n",
    "plt.hist(e1x,bins=25,orientation=u'horizontal',alpha = 0.5);\n",
    "#(mu,sigma)=norm.fit(e2x)\n",
    "plt.hist(e2x,bins=25,orientation=u'horizontal',alpha = 0.5);"
   ]
  },
  {
   "cell_type": "code",
   "execution_count": 173,
   "metadata": {},
   "outputs": [],
   "source": [
    "# solving differential equations, using Monte Carlo to perform integrations\n",
    "def mc_int(func, domain, n_samples):\n",
    "    samples = np.random.uniform(low=domain[0], high=domain[1], size=(n_samples))\n",
    "    volume = abs(domain[1] - domain[0])\n",
    "    return np.mean(func(samples)) * volume"
   ]
  },
  {
   "cell_type": "code",
   "execution_count": 21,
   "metadata": {},
   "outputs": [],
   "source": [
    "def mc_solver(func, y0, x, n_samples):\n",
    "    vals = [y0]\n",
    "    for lo, hi in zip(x[:-1], x[1:]):\n",
    "        vals.append(vals[-1] + mc_int(func, (lo, hi), n_samples))\n",
    "    return np.asarray(vals)\n"
   ]
  },
  {
   "cell_type": "code",
   "execution_count": 42,
   "metadata": {},
   "outputs": [],
   "source": [
    "def f(x):\n",
    "    return x**3 + 2 * x**2 - 3**x"
   ]
  },
  {
   "cell_type": "code",
   "execution_count": 466,
   "metadata": {},
   "outputs": [],
   "source": [
    "c=np.linspace(-5,5,30)\n",
    "y=mc_solver(f,10,c,100)"
   ]
  },
  {
   "cell_type": "code",
   "execution_count": 467,
   "metadata": {},
   "outputs": [
    {
     "data": {
      "text/plain": [
       "Text(0, 0.5, 'y')"
      ]
     },
     "execution_count": 467,
     "metadata": {},
     "output_type": "execute_result"
    },
    {
     "data": {
      "image/png": "[encoded data removed]",
      "text/plain": [
       "<Figure size 432x288 with 1 Axes>"
      ]
     },
     "metadata": {
      "needs_background": "light"
     },
     "output_type": "display_data"
    }
   ],
   "source": [
    "plt.figure()\n",
    "plt.plot(c,y)\n",
    "plt.xlabel('x')\n",
    "plt.ylabel('y')\n",
    "#plt.title('Energy fluctuations in an MH trajectory')"
   ]
  }
 ],
 "metadata": {
  "kernelspec": {
   "display_name": "Python 3",
   "language": "python",
   "name": "python3"
  },
  "language_info": {
   "codemirror_mode": {
    "name": "ipython",
    "version": 3
   },
   "file_extension": ".py",
   "mimetype": "text/x-python",
   "name": "python",
   "nbconvert_exporter": "python",
   "pygments_lexer": "ipython3",
   "version": "3.7.6"
  }
 },
 "nbformat": 4,
 "nbformat_minor": 4
}
